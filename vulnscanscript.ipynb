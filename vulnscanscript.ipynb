{
  "nbformat": 4,
  "nbformat_minor": 0,
  "metadata": {
    "colab": {
      "provenance": [],
      "authorship_tag": "ABX9TyOQON20GzVabacGtxJHxhm5",
      "include_colab_link": true
    },
    "kernelspec": {
      "name": "python3",
      "display_name": "Python 3"
    },
    "language_info": {
      "name": "python"
    }
  },
  "cells": [
    {
      "cell_type": "markdown",
      "metadata": {
        "id": "view-in-github",
        "colab_type": "text"
      },
      "source": [
        "<a href=\"https://colab.research.google.com/github/Gowthamkaranam/GK-nonameapp/blob/main/vulnscanscript.ipynb\" target=\"_parent\"><img src=\"https://colab.research.google.com/assets/colab-badge.svg\" alt=\"Open In Colab\"/></a>"
      ]
    },
    {
      "cell_type": "code",
      "execution_count": null,
      "metadata": {
        "id": "utCGvtsmY_Y6"
      },
      "outputs": [],
      "source": []
    },
    {
      "cell_type": "code",
      "source": [
        "import re\n",
        "import os\n",
        "\n",
        "# Directory containing log files\n",
        "log_dir_path = '/Users/KGOWTHA1/Downloads/Petalcase/RT Activity/DEV-ito031948-logs'\n",
        "# Output file for identified accesses\n",
        "output_file_path = 'C:/Users/KGOWTHA1/Downloads/Petalcase/RT Activity/DEV-ito031948-logs/scanner_accesses.txt'\n",
        "\n",
        "# Regular expression to match log entries with HackerOne or vulnerability scanners' User-Agent strings\n",
        "# and capture HTTP status codes.\n",
        "log_pattern = re.compile(\n",
        "    r'(?P<ip_address>\\d{1,3}\\.\\d{1,3}\\.\\d{1,3}\\.\\d{1,3}).*'\n",
        "    r'(?P<user_agent>HackerOne|Nessus|Nmap|ZAP|w3af|BurpSuite).*'\n",
        "    r'HTTP/\\d\\.\\d\"\\s(?P<status_code>\\d{3})',\n",
        "    re.IGNORECASE\n",
        ")\n",
        "\n",
        "# Function to process a single log file\n",
        "def process_log_file(log_file_path, output_file):\n",
        "    with open(log_file_path, 'r', encoding='utf-8') as log_file:\n",
        "        for line in log_file:\n",
        "            match = log_pattern.search(line)\n",
        "            if match:\n",
        "                # Check if the access was successful (e.g., HTTP status code 200)\n",
        "                if match.group('status_code') in ['200', '201', '202']:\n",
        "                    output_file.write(f\"Successful access: {line}\")\n",
        "                else:\n",
        "                    output_file.write(f\"Unsuccessful access or probe: {line}\")\n",
        "\n",
        "# Main execution\n",
        "if __name__ == '__main__':\n",
        "    with open(output_file_path, 'w', encoding='utf-8') as output_file:\n",
        "        for filename in os.listdir(log_dir_path):\n",
        "            if filename.endswith(\".log\") or filename.endswith(\".txt\") :  # Ensure processing .log and .txt files only\n",
        "                log_file_path = os.path.join(log_dir_path, filename)\n",
        "                print(f\"Processing {log_file_path}...\")\n",
        "                process_log_file(log_file_path, output_file)\n",
        "\n",
        "    print(f\"Processed logs. Results saved to {output_file_path}\")"
      ],
      "metadata": {
        "colab": {
          "base_uri": "https://localhost:8080/",
          "height": 228
        },
        "id": "ToDk6Kj2ZXpq",
        "outputId": "c6f8229b-0fbd-41e8-f6e7-8e6ef3042837"
      },
      "execution_count": 1,
      "outputs": [
        {
          "output_type": "error",
          "ename": "FileNotFoundError",
          "evalue": "[Errno 2] No such file or directory: 'C:/Users/KGOWTHA1/Downloads/Petalcase/RT Activity/DEV-ito031948-logs/scanner_accesses.txt'",
          "traceback": [
            "\u001b[0;31m---------------------------------------------------------------------------\u001b[0m",
            "\u001b[0;31mFileNotFoundError\u001b[0m                         Traceback (most recent call last)",
            "\u001b[0;32m<ipython-input-1-1524845335b4>\u001b[0m in \u001b[0;36m<cell line: 31>\u001b[0;34m()\u001b[0m\n\u001b[1;32m     30\u001b[0m \u001b[0;31m# Main execution\u001b[0m\u001b[0;34m\u001b[0m\u001b[0;34m\u001b[0m\u001b[0m\n\u001b[1;32m     31\u001b[0m \u001b[0;32mif\u001b[0m \u001b[0m__name__\u001b[0m \u001b[0;34m==\u001b[0m \u001b[0;34m'__main__'\u001b[0m\u001b[0;34m:\u001b[0m\u001b[0;34m\u001b[0m\u001b[0;34m\u001b[0m\u001b[0m\n\u001b[0;32m---> 32\u001b[0;31m     \u001b[0;32mwith\u001b[0m \u001b[0mopen\u001b[0m\u001b[0;34m(\u001b[0m\u001b[0moutput_file_path\u001b[0m\u001b[0;34m,\u001b[0m \u001b[0;34m'w'\u001b[0m\u001b[0;34m,\u001b[0m \u001b[0mencoding\u001b[0m\u001b[0;34m=\u001b[0m\u001b[0;34m'utf-8'\u001b[0m\u001b[0;34m)\u001b[0m \u001b[0;32mas\u001b[0m \u001b[0moutput_file\u001b[0m\u001b[0;34m:\u001b[0m\u001b[0;34m\u001b[0m\u001b[0;34m\u001b[0m\u001b[0m\n\u001b[0m\u001b[1;32m     33\u001b[0m         \u001b[0;32mfor\u001b[0m \u001b[0mfilename\u001b[0m \u001b[0;32min\u001b[0m \u001b[0mos\u001b[0m\u001b[0;34m.\u001b[0m\u001b[0mlistdir\u001b[0m\u001b[0;34m(\u001b[0m\u001b[0mlog_dir_path\u001b[0m\u001b[0;34m)\u001b[0m\u001b[0;34m:\u001b[0m\u001b[0;34m\u001b[0m\u001b[0;34m\u001b[0m\u001b[0m\n\u001b[1;32m     34\u001b[0m             \u001b[0;32mif\u001b[0m \u001b[0mfilename\u001b[0m\u001b[0;34m.\u001b[0m\u001b[0mendswith\u001b[0m\u001b[0;34m(\u001b[0m\u001b[0;34m\".log\"\u001b[0m\u001b[0;34m)\u001b[0m \u001b[0;32mor\u001b[0m \u001b[0mfilename\u001b[0m\u001b[0;34m.\u001b[0m\u001b[0mendswith\u001b[0m\u001b[0;34m(\u001b[0m\u001b[0;34m\".txt\"\u001b[0m\u001b[0;34m)\u001b[0m \u001b[0;34m:\u001b[0m  \u001b[0;31m# Ensure processing .log and .txt files only\u001b[0m\u001b[0;34m\u001b[0m\u001b[0;34m\u001b[0m\u001b[0m\n",
            "\u001b[0;31mFileNotFoundError\u001b[0m: [Errno 2] No such file or directory: 'C:/Users/KGOWTHA1/Downloads/Petalcase/RT Activity/DEV-ito031948-logs/scanner_accesses.txt'"
          ]
        }
      ]
    }
  ]
}